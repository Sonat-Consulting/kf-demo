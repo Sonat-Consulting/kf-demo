{
 "cells": [
  {
   "cell_type": "code",
   "execution_count": 36,
   "id": "8bbd2764",
   "metadata": {},
   "outputs": [],
   "source": [
    "import numpy as np\n",
    "from numpy import eye, array, asarray\n",
    "from numpy.linalg import inv\n",
    "from numpy.random import randn\n",
    "import math\n",
    "from math import sqrt\n",
    "import matplotlib.pyplot as plt"
   ]
  },
  {
   "cell_type": "code",
   "execution_count": 43,
   "id": "b0e85d13",
   "metadata": {},
   "outputs": [],
   "source": [
    "class KalmanFilter:\n",
    "    def __init__(self):\n",
    "        self.M = None\n",
    "        self.H = None\n",
    "        self.mu = None\n",
    "        self.Sigma = None\n",
    "        self.Sigma_y = None\n",
    "        self.Q = None\n",
    "        \n",
    "    def predict_response(self):\n",
    "        return self.H @ self.mu\n",
    "    \n",
    "    # KF assimilation\n",
    "    def update(self, y_t):\n",
    "        # Predict y to measure innovation\n",
    "        y_hat = self.predict_response()\n",
    "        # Calculate Kalman gain\n",
    "        K = self.Sigma @ self.H.T @ inv(self.H @ self.Sigma @ self.H.T + self.Sigma_y)\n",
    "        # Update belief\n",
    "        I = np.identity(self.mu.size)\n",
    "        self.mu = self.mu + K @ (y_t - y_hat)\n",
    "        self.Sigma = (I-K@self.H)@self.Sigma\n",
    "    \n",
    "    # time dynamics\n",
    "    def predict(self):\n",
    "        self.mu = self.M @ self.mu\n",
    "        self.Sigma = self.M @ self.Sigma @ self.M.T + self.Q"
   ]
  },
  {
   "cell_type": "markdown",
   "id": "88a38adb",
   "metadata": {},
   "source": [
    "*Ensemble Kalman Filteret* blir relevant når tids-dynamikkar er svært ikkje-lineære og Jacobianen ikkje kan reknast analytisk, numerisk, eller med bruk av automatisk differensiering.\n",
    "\n",
    "\\begin{align}\n",
    "\\mathbf{x}_{t|t-1} &= m(\\mathbf{x}_{t-1|t-1})\\\\\n",
    "\\hat{\\mathbf{y}}_{t} &= h(\\mathbf{x}_{t|t-1})\n",
    "\\end{align}"
   ]
  },
  {
   "cell_type": "code",
   "execution_count": 44,
   "id": "dc7ac223",
   "metadata": {},
   "outputs": [],
   "source": [
    "class EnsembleKalmanFilter(KalmanFilter):\n",
    "    def __init__(self, N, mu, Sigma):\n",
    "        super().__init__()\n",
    "        self.m = None\n",
    "        self.N = N\n",
    "        self.mu = mu\n",
    "        self.Sigma = Sigma\n",
    "        self.ensemble = np.random.multivariate_normal(mu, Sigma, N)\n",
    "        \n",
    "    def update(self, y_t):\n",
    "        super().update(y_t)\n",
    "        self.ensemble = np.random.multivariate_normal(self.mu, self.Sigma, self.N)\n",
    "    \n",
    "    def predict(self):\n",
    "        self.ensemble = array([m(x) for x in self.ensemble])\n",
    "        self.mu = self.ensemble.mean(axis=0)\n",
    "        self.Sigma = np.cov(self.ensemble, rowvar=False)"
   ]
  },
  {
   "cell_type": "code",
   "execution_count": 45,
   "id": "29171861",
   "metadata": {},
   "outputs": [],
   "source": [
    "# Initialize the Kalman Filter\n",
    "enkf = EnsembleKalmanFilter(\n",
    "    N=1000,\n",
    "    mu=array([3,4]), \n",
    "    Sigma=array([\n",
    "    [50,0],\n",
    "    [0,50]\n",
    "])\n",
    ")\n",
    "\n",
    "\n",
    "# predict dynamics\n",
    "dt = 1\n",
    "#enkf.M = array([[1,dt],\n",
    "#      [0,1]])\n",
    "def m(x):\n",
    "    pos = x[0] + x[1]\n",
    "    v = x[1]\n",
    "    return [pos, v]\n",
    "enkf.m = m\n",
    "enkf.Q = eye(2)*0\n",
    "# update dynamics\n",
    "enkf.H = array([\n",
    "    [1,0]\n",
    "])\n",
    "# noise of observations\n",
    "enkf.Sigma_y = None #added later"
   ]
  },
  {
   "cell_type": "code",
   "execution_count": 46,
   "id": "e1bbc8f4",
   "metadata": {},
   "outputs": [],
   "source": [
    "# Create observations\n",
    "Sigma_y = array([\n",
    "    [50,0],\n",
    "    [0,1]\n",
    "])\n",
    "enkf.Sigma_y = Sigma_y[0,0]\n",
    "T = 30\n",
    "x_truth = [array([[50],[2]])]\n",
    "for t in range(1,T):\n",
    "    x_truth.append(enkf.m(x_truth[t-1]))\n",
    "x_obs = [xt + np.random.multivariate_normal([0,0], Sigma_y, 1).T for xt in x_truth]"
   ]
  },
  {
   "cell_type": "code",
   "execution_count": 47,
   "id": "5d22955c",
   "metadata": {},
   "outputs": [],
   "source": [
    "# Assimilate over time\n",
    "time = np.linspace(1,T,T)\n",
    "pos_truth = [o[0] for o in x_truth]\n",
    "pos_obs = [obs[0] for obs in x_obs]\n",
    "mu_prior = []\n",
    "mu_posterior = []\n",
    "for t in range(T):\n",
    "    mu_prior.append(enkf.mu[0])\n",
    "    # assimilation step\n",
    "    enkf.update(pos_obs[t])\n",
    "    mu_posterior.append(enkf.mu[0])\n",
    "    # time dynamics for next iteration\n",
    "    enkf.predict()"
   ]
  },
  {
   "cell_type": "code",
   "execution_count": 48,
   "id": "8836514b",
   "metadata": {},
   "outputs": [
    {
     "data": {
      "image/png": "[encoded data removed]",
      "text/plain": [
       "<Figure size 432x288 with 1 Axes>"
      ]
     },
     "metadata": {
      "needs_background": "light"
     },
     "output_type": "display_data"
    }
   ],
   "source": [
    "# Inspect\n",
    "plot1 = plt.figure(1)\n",
    "plt.plot(time, pos_truth)\n",
    "plt.scatter(time, pos_obs, color=\"red\")\n",
    "plt.ylabel('Position')\n",
    "plt.xlabel('Time')\n",
    "plt.scatter(time, mu_prior, color=\"blue\", marker=\"^\")\n",
    "plt.scatter(time, mu_posterior, color=\"green\", marker=\"+\")\n",
    "plt.legend(['True distance', \n",
    "            'Measured (with uncertainty) distance', \n",
    "            'Prior estimate',\n",
    "            'Posterior estimate'])\n",
    "plt.show()"
   ]
  }
 ],
 "metadata": {
  "kernelspec": {
   "display_name": "Python 3 (ipykernel)",
   "language": "python",
   "name": "python3"
  },
  "language_info": {
   "codemirror_mode": {
    "name": "ipython",
    "version": 3
   },
   "file_extension": ".py",
   "mimetype": "text/x-python",
   "name": "python",
   "nbconvert_exporter": "python",
   "pygments_lexer": "ipython3",
   "version": "3.9.7"
  }
 },
 "nbformat": 4,
 "nbformat_minor": 5
}

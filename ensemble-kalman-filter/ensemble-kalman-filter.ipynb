{
 "cells": [
  {
   "cell_type": "code",
   "execution_count": 455,
   "id": "8bbd2764",
   "metadata": {},
   "outputs": [],
   "source": [
    "import numpy as np\n",
    "from numpy import eye, array, asarray\n",
    "from numpy.linalg import inv\n",
    "from numpy.random import randn\n",
    "import math\n",
    "from math import sqrt\n",
    "import matplotlib.pyplot as plt"
   ]
  },
  {
   "cell_type": "code",
   "execution_count": 456,
   "id": "b0e85d13",
   "metadata": {},
   "outputs": [],
   "source": [
    "class KalmanFilter:\n",
    "    def __init__(self):\n",
    "        self.M = None\n",
    "        self.H = None\n",
    "        self.mu = None\n",
    "        self.Sigma = None\n",
    "        self.Sigma_y = None\n",
    "        self.Q = None\n",
    "        \n",
    "    def predict_response(self):\n",
    "        return self.H @ self.mu\n",
    "    \n",
    "    # KF assimilation\n",
    "    def update(self, y_t):\n",
    "        # Predict y to measure innovation\n",
    "        y_hat = self.predict_response()\n",
    "        # Calculate Kalman gain\n",
    "        K = self.Sigma @ self.H.T @ inv(self.H @ self.Sigma @ self.H.T + self.Sigma_y)\n",
    "        # Update belief\n",
    "        I = np.eye(self.mu.size)\n",
    "        h_tmp = (y_t - y_hat)        \n",
    "        self.mu = self.mu + K @ (y_t - y_hat)\n",
    "        self.Sigma = (I-K@self.H)@self.Sigma\n",
    "    \n",
    "    # time dynamics\n",
    "    def predict(self):\n",
    "        self.mu = self.M @ self.mu\n",
    "        self.Sigma = self.M @ self.Sigma @ self.M.T + self.Q"
   ]
  },
  {
   "cell_type": "markdown",
   "id": "88a38adb",
   "metadata": {},
   "source": [
    "*Ensemble Kalman Filteret* blir relevant når tids-dynamikkar er svært ikkje-lineære og Jacobianen ikkje kan reknast analytisk, numerisk, eller med bruk av automatisk differensiering.\n",
    "\n",
    "\\begin{align}\n",
    "\\mathbf{x}_{t|t-1} &= m(\\mathbf{x}_{t-1|t-1})\\\\\n",
    "\\hat{\\mathbf{y}}_{t} &= h(\\mathbf{x}_{t|t-1})\n",
    "\\end{align}"
   ]
  },
  {
   "cell_type": "code",
   "execution_count": 457,
   "id": "dc7ac223",
   "metadata": {},
   "outputs": [],
   "source": [
    "class EnsembleKalmanFilter(KalmanFilter):\n",
    "    def __init__(self, N, mu, Sigma, EnsembleElementClass):\n",
    "        super().__init__()\n",
    "        self.m = None\n",
    "        self.N = N\n",
    "        self.mu = mu\n",
    "        self.Sigma = Sigma\n",
    "        self.EnsembleElementClass = EnsembleElementClass # must have from_state classmethod returning instance and update_state method\n",
    "        self.ensemble = self.sample_ensemble()\n",
    "    \n",
    "    def sample_ensemble(self):\n",
    "        parameter_sample = np.random.multivariate_normal(self.mu.ravel(), self.Sigma, self.N)\n",
    "        return [self.EnsembleElementClass.from_state(x) for x in parameter_sample]\n",
    "    \n",
    "    def update_ensemble(self):\n",
    "        parameter_sample = np.random.multivariate_normal(self.mu.ravel(), self.Sigma, self.N)\n",
    "        for i in range(self.N):\n",
    "            self.ensemble[i].update_state(parameter_sample[i])\n",
    "    \n",
    "    def update(self, y_t):\n",
    "        super().update(y_t)\n",
    "        self.update_ensemble()\n",
    "        \n",
    "    def predict(self):\n",
    "        for i in range(self.N):\n",
    "            self.ensemble[i].run_dynamics()\n",
    "        states = array([sample.state() for sample in self.ensemble])\n",
    "        self.mu = array(states.mean(axis=0)).T\n",
    "        self.mu.shape = (self.mu.size,1)\n",
    "        self.Sigma = np.cov(states, rowvar=False)\n",
    "        \n",
    "        "
   ]
  },
  {
   "cell_type": "code",
   "execution_count": 458,
   "id": "b6147ebb",
   "metadata": {},
   "outputs": [],
   "source": [
    "class DrunkDrivingDynamics:\n",
    "    def __init__(self, p, v):\n",
    "        self.p0 = p\n",
    "        self.p = p\n",
    "        self.v0 = v\n",
    "        self.v = v\n",
    "        self.t0 = 0\n",
    "        self.t = 0\n",
    "        \n",
    "    @classmethod\n",
    "    def from_state(cls, x):\n",
    "        return cls(x[0], x[1])\n",
    "    \n",
    "    def run_dynamics(self, dt=1.0):\n",
    "        # Drunk person desides to speed up to root of pos^2 and v^2 until next time\n",
    "        self.t = self.t+dt\n",
    "        self.v = np.sqrt(self.v**2 + self.p**2)\n",
    "        self.p = self.p + dt*self.t\n",
    "        \n",
    "        #self.t = self.t+dt\n",
    "        #Dt = self.t-self.t0\n",
    "        #self.v = np.sin(self.t) + self.v0 # drunk velocity\n",
    "        #self.p = self.p0 + (-np.cos(self.t) - -(np.cos(self.t0))) + Dt*self.v0 # p = p0 + int_t0^t v(s) ds\n",
    "    \n",
    "    def update_state(self, x):\n",
    "        self.p = x[0]\n",
    "        self.v = x[1]\n",
    "        #self.v0 = self.v - np.sin(self.t)\n",
    "        #self.p0 = self.p - (-np.cos(self.t) - -(np.cos(self.t0))) + (self.t-self.t0)*self.v0 \n",
    "    \n",
    "    def shouts_out_his_position(self, var_y, dt=1.0):\n",
    "        self.run_dynamics(dt)\n",
    "        err = np.random.normal(0, np.sqrt(var_y), 1)\n",
    "        return self.p + err\n",
    "    \n",
    "    def state(self):\n",
    "        return array([self.p, self.v])"
   ]
  },
  {
   "cell_type": "code",
   "execution_count": 459,
   "id": "29171861",
   "metadata": {},
   "outputs": [],
   "source": [
    "# Initialize the drunk driver\n",
    "drunk = DrunkDrivingDynamics(1, 0.5)\n",
    "\n",
    "# Initialize the Kalman Filter\n",
    "enkf = EnsembleKalmanFilter(\n",
    "    N=1000,\n",
    "    mu=array([[20],\n",
    "              [0]]),\n",
    "    Sigma=array([[100,0],\n",
    "                 [0,100]]),\n",
    "    EnsembleElementClass = DrunkDrivingDynamics,\n",
    ")\n",
    "# predict dynamics\n",
    "dt = 1\n",
    "enkf.Q = eye(2)*0\n",
    "# update dynamics\n",
    "enkf.H = array([\n",
    "    [1,0]\n",
    "])"
   ]
  },
  {
   "cell_type": "code",
   "execution_count": 460,
   "id": "4ff1153e",
   "metadata": {},
   "outputs": [],
   "source": [
    "# Assimilate over time\n",
    "T=30\n",
    "#xs = []\n",
    "time = []\n",
    "xs_prior = []\n",
    "xs_posterior = []\n",
    "track = []\n",
    "drunk_belief = []\n",
    "for t in range(T):\n",
    "    enkf.Sigma_y = 10* enkf.mu[0]\n",
    "    time.append(t)\n",
    "    y = drunk.shouts_out_his_position(var_y=enkf.Sigma_y)\n",
    "    xs_prior.append(enkf.mu)\n",
    "    drunk_belief.append(y)\n",
    "    track.append((drunk.p, drunk.v))\n",
    "    enkf.update(array([y]))\n",
    "    xs_posterior.append(enkf.mu)\n",
    "    xs.append(enkf.mu)\n",
    "    enkf.predict()\n",
    " "
   ]
  },
  {
   "cell_type": "code",
   "execution_count": 461,
   "id": "f8f7d13d",
   "metadata": {},
   "outputs": [
    {
     "data": {
      "image/png": "[encoded data removed]",
      "text/plain": [
       "<Figure size 432x288 with 1 Axes>"
      ]
     },
     "metadata": {
      "needs_background": "light"
     },
     "output_type": "display_data"
    },
    {
     "data": {
      "image/png": "[encoded data removed]",
      "text/plain": [
       "<Figure size 432x288 with 1 Axes>"
      ]
     },
     "metadata": {
      "needs_background": "light"
     },
     "output_type": "display_data"
    }
   ],
   "source": [
    "# Inspect\n",
    "pos_prior = [x[0] for x in xs_prior]\n",
    "pos_posterior = [x[0] for x in xs_posterior]\n",
    "track = asarray(track)\n",
    "plot1 = plt.figure(1)\n",
    "plt.plot(time, track[:,0])\n",
    "plt.plot(time, pos_prior)\n",
    "plt.plot(time, pos_posterior)\n",
    "plt.scatter(time, drunk_belief)\n",
    "plt.yscale('log')\n",
    "plt.title(\"Various beliefs on positions\")\n",
    "plt.ylabel(\"position (m)\")\n",
    "plt.xlabel(\"time (sec)\")\n",
    "plt.legend([\"True state\", \"prior estimate\", 'Posterior estimate', \"Drunk belief\"])\n",
    "plt.show()\n",
    "\n",
    "vel_prior = [x[1] for x in xs_prior]\n",
    "vel_posterior = [x[1] for x in xs_posterior]\n",
    "plot2 = plt.figure(2)\n",
    "plt.plot(time, vel_prior)\n",
    "plt.plot(time, vel_posterior)\n",
    "plt.plot(time, track[:,1])\n",
    "plt.yscale('log')\n",
    "plt.title(\"Various beliefs on velocity\")\n",
    "plt.ylabel(\"velocity (m/s)\")\n",
    "plt.xlabel(\"time (sec)\")\n",
    "plt.legend([\"Prior estimate\", 'Posterior estimate', \"True state\"])\n",
    "plt.show()"
   ]
  },
  {
   "cell_type": "code",
   "execution_count": null,
   "id": "92a86264",
   "metadata": {},
   "outputs": [],
   "source": []
  }
 ],
 "metadata": {
  "kernelspec": {
   "display_name": "Python 3 (ipykernel)",
   "language": "python",
   "name": "python3"
  },
  "language_info": {
   "codemirror_mode": {
    "name": "ipython",
    "version": 3
   },
   "file_extension": ".py",
   "mimetype": "text/x-python",
   "name": "python",
   "nbconvert_exporter": "python",
   "pygments_lexer": "ipython3",
   "version": "3.9.7"
  }
 },
 "nbformat": 4,
 "nbformat_minor": 5
}

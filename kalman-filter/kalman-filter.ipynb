{
 "cells": [
  {
   "cell_type": "code",
   "execution_count": 21,
   "id": "f5effcd0",
   "metadata": {},
   "outputs": [],
   "source": [
    "import numpy as np\n",
    "from numpy import eye, array, asarray\n",
    "from numpy.linalg import inv\n",
    "import matplotlib.pyplot as plt"
   ]
  },
  {
   "cell_type": "code",
   "execution_count": 26,
   "id": "7f24fe0d",
   "metadata": {},
   "outputs": [],
   "source": [
    "class KalmanFilter:\n",
    "    def __init__(self):\n",
    "        self.M = None\n",
    "        self.H = None\n",
    "        self.mu = None\n",
    "        self.Sigma = None\n",
    "        self.Sigma_y = None\n",
    "        self.Q = None\n",
    "        \n",
    "    def predict_response(self):\n",
    "        return self.H @ self.mu\n",
    "    \n",
    "    # KF assimilation\n",
    "    def update(self, y_t):\n",
    "        # Predict y to measure innovation\n",
    "        y_hat = self.predict_response()\n",
    "        # Calculate Kalman gain\n",
    "        K = self.Sigma @ self.H.T @ inv(self.H @ self.Sigma @ self.H.T + self.Sigma_y)\n",
    "        # Update belief\n",
    "        I = np.identity(self.mu.size)\n",
    "        self.mu = self.mu + K @ (y_t - y_hat)\n",
    "        self.Sigma = (I-K@self.H)@self.Sigma\n",
    "    \n",
    "    # time dynamics\n",
    "    def predict(self):\n",
    "        self.mu = self.M @ self.mu\n",
    "        self.Sigma = self.M @ self.Sigma @ self.M.T + self.Q"
   ]
  },
  {
   "cell_type": "code",
   "execution_count": 27,
   "id": "fbe49cdd",
   "metadata": {},
   "outputs": [],
   "source": [
    "# Initialize the Kalman Filter\n",
    "kf = KalmanFilter()\n",
    "# predict dynamics\n",
    "dt = 1\n",
    "kf.M = array([[1,dt],\n",
    "      [0,1]])\n",
    "kf.Q = eye(2)*0\n",
    "# update dynamics\n",
    "kf.H = array([\n",
    "    [1,0]\n",
    "])\n",
    "# Create initial prior\n",
    "kf.mu = array([[3],\n",
    "                [4]])\n",
    "kf.Sigma = array([\n",
    "    [50,0],\n",
    "    [0,50]\n",
    "])\n",
    "# noise of observations\n",
    "kf.Sigma_y = None #added later"
   ]
  },
  {
   "cell_type": "code",
   "execution_count": 28,
   "id": "1f5f6e36",
   "metadata": {},
   "outputs": [],
   "source": [
    "# Create observations\n",
    "Sigma_y = array([\n",
    "    [50,0],\n",
    "    [0,1]\n",
    "])\n",
    "kf.Sigma_y = Sigma_y[0,0]\n",
    "T = 30\n",
    "x_truth = [array([[50],[2]])]\n",
    "for t in range(1,T):\n",
    "    x_truth.append(kf.M@x_truth[t-1])\n",
    "x_obs = [xt + np.random.multivariate_normal([0,0], Sigma_y, 1).T for xt in x_truth]"
   ]
  },
  {
   "cell_type": "code",
   "execution_count": 29,
   "id": "d2eb2e4c",
   "metadata": {},
   "outputs": [],
   "source": [
    "# Assimilate over time\n",
    "time = np.linspace(1,T,T)\n",
    "pos_truth = [o[0] for o in x_truth]\n",
    "pos_obs = [obs[0] for obs in x_obs]\n",
    "mu_prior = []\n",
    "mu_posterior = []\n",
    "for t in range(T):\n",
    "    mu_prior.append(kf.mu[0])\n",
    "    # assimilation step\n",
    "    kf.update(pos_obs[t])\n",
    "    mu_posterior.append(kf.mu[0])\n",
    "    # time dynamics for next iteration\n",
    "    kf.predict()"
   ]
  },
  {
   "cell_type": "code",
   "execution_count": 30,
   "id": "dcb279c2",
   "metadata": {},
   "outputs": [
    {
     "data": {
      "image/png": "[encoded data removed]",
      "text/plain": [
       "<Figure size 432x288 with 1 Axes>"
      ]
     },
     "metadata": {
      "needs_background": "light"
     },
     "output_type": "display_data"
    }
   ],
   "source": [
    "# Inspect\n",
    "plot1 = plt.figure(1)\n",
    "plt.plot(time, pos_truth)\n",
    "plt.scatter(time, pos_obs, color=\"red\")\n",
    "plt.ylabel('Position')\n",
    "plt.xlabel('Time')\n",
    "plt.scatter(time, mu_prior, color=\"blue\", marker=\"^\")\n",
    "plt.scatter(time, mu_posterior, color=\"green\", marker=\"+\")\n",
    "plt.legend(['True distance', \n",
    "            'Measured (with uncertainty) distance', \n",
    "            'Prior estimate',\n",
    "            'Posterior estimate'])\n",
    "plt.show()"
   ]
  },
  {
   "cell_type": "code",
   "execution_count": null,
   "id": "1774c088",
   "metadata": {},
   "outputs": [],
   "source": []
  }
 ],
 "metadata": {
  "kernelspec": {
   "display_name": "Python 3 (ipykernel)",
   "language": "python",
   "name": "python3"
  },
  "language_info": {
   "codemirror_mode": {
    "name": "ipython",
    "version": 3
   },
   "file_extension": ".py",
   "mimetype": "text/x-python",
   "name": "python",
   "nbconvert_exporter": "python",
   "pygments_lexer": "ipython3",
   "version": "3.9.7"
  }
 },
 "nbformat": 4,
 "nbformat_minor": 5
}

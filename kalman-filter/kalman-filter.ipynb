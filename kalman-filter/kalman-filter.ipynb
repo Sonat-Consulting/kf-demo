{
 "cells": [
  {
   "cell_type": "code",
   "execution_count": 15,
   "id": "f5effcd0",
   "metadata": {},
   "outputs": [],
   "source": [
    "import numpy as np\n",
    "from numpy import array\n",
    "from numpy.linalg import inv\n",
    "import matplotlib.pyplot as plt"
   ]
  },
  {
   "cell_type": "code",
   "execution_count": 16,
   "id": "7f24fe0d",
   "metadata": {},
   "outputs": [],
   "source": [
    "# KF assimilation\n",
    "def assimilate(y_t, H_t, mu, Sigma, Sigma_y_t):\n",
    "    # Predict y to measure innovation\n",
    "    y_hat = H_t @ mu \n",
    "    # Calculate Kalman gain\n",
    "    K = Sigma @ H_t.T @ inv(H_t@Sigma@H_t.T + Sigma_y_t)\n",
    "    # Update belief\n",
    "    I = np.identity(mu.size)\n",
    "    mu = mu + K @ (y_t - y_hat)\n",
    "    Sigma = (I-K@H_t)@Sigma\n",
    "    #print(mu)\n",
    "    #print(Sigma)\n",
    "    return mu, Sigma"
   ]
  },
  {
   "cell_type": "code",
   "execution_count": 17,
   "id": "96c90d99",
   "metadata": {},
   "outputs": [],
   "source": [
    "# Create time-dynamics\n",
    "dt = 1\n",
    "v = 2\n",
    "M = array([[1,dt],\n",
    "      [0,1]])\n",
    "# Create dynamics\n",
    "def timeDynamics(x, M):\n",
    "    return M @ x\n",
    "\n",
    "def propagatePriorInTime(mu, Sigma, M):\n",
    "    return M @ mu, M @ Sigma @ M.T"
   ]
  },
  {
   "cell_type": "code",
   "execution_count": 18,
   "id": "a3794808",
   "metadata": {},
   "outputs": [],
   "source": [
    "# Create observations\n",
    "Sigma_y = array([\n",
    "    [50,0],\n",
    "    [0,1]\n",
    "])\n",
    "T = 30\n",
    "x_truth = [array([[50],[2]])]\n",
    "for t in range(1,T):\n",
    "    x_truth.append(timeDynamics(x_truth[t-1], M))\n",
    "x_obs = [xt + np.random.multivariate_normal([0,0], Sigma_y, 1).T for xt in x_truth]"
   ]
  },
  {
   "cell_type": "code",
   "execution_count": 19,
   "id": "69c6d9dd",
   "metadata": {},
   "outputs": [],
   "source": [
    "# Create initial prior\n",
    "mu = array([[3],\n",
    "                [4]])\n",
    "Sigma = array([\n",
    "    [50,0],\n",
    "    [0,50]\n",
    "])"
   ]
  },
  {
   "cell_type": "code",
   "execution_count": 20,
   "id": "97316f8e",
   "metadata": {},
   "outputs": [],
   "source": [
    "# Assimilate over time\n",
    "time = np.linspace(1,T,T)\n",
    "pos_truth = [o[0] for o in x_truth]\n",
    "pos_obs = [obs[0] for obs in x_obs]\n",
    "# observations linear in state\n",
    "H = array([\n",
    "    [1,0]\n",
    "])\n",
    "mu_prior = []\n",
    "mu_posterior = []\n",
    "\n",
    "for t in range(T):\n",
    "    mu_prior.append(mu[0])\n",
    "    # assimilation step\n",
    "    mu, Sigma = assimilate(pos_obs[t], H, mu, Sigma, Sigma_y[0,0])\n",
    "    mu_posterior.append(mu[0])\n",
    "    # time dynamics for next iteration\n",
    "    mu, Sigma = propagatePriorInTime(mu, Sigma, M)"
   ]
  },
  {
   "cell_type": "code",
   "execution_count": 21,
   "id": "1a665550",
   "metadata": {},
   "outputs": [
    {
     "data": {
      "text/plain": [
       "<matplotlib.legend.Legend at 0x10cb898b0>"
      ]
     },
     "execution_count": 21,
     "metadata": {},
     "output_type": "execute_result"
    },
    {
     "data": {
      "image/png": "[encoded data removed]",
      "text/plain": [
       "<Figure size 432x288 with 1 Axes>"
      ]
     },
     "metadata": {
      "needs_background": "light"
     },
     "output_type": "display_data"
    }
   ],
   "source": [
    "# Inspect\n",
    "plot1 = plt.figure(1)\n",
    "plt.plot(time, pos_truth)\n",
    "plt.scatter(time, pos_obs, color=\"red\")\n",
    "plt.ylabel('Position')\n",
    "plt.xlabel('Time')\n",
    "plt.scatter(time, mu_prior, color=\"blue\", marker=\"^\")\n",
    "plt.scatter(time, mu_posterior, color=\"green\", marker=\"+\")\n",
    "plt.legend(['True distance', \n",
    "            'Measured (with uncertainty) distance', \n",
    "            'Prior estimate',\n",
    "            'Posterior estimate'])"
   ]
  },
  {
   "cell_type": "code",
   "execution_count": null,
   "id": "bad71144",
   "metadata": {},
   "outputs": [],
   "source": []
  }
 ],
 "metadata": {
  "kernelspec": {
   "display_name": "Python 3 (ipykernel)",
   "language": "python",
   "name": "python3"
  },
  "language_info": {
   "codemirror_mode": {
    "name": "ipython",
    "version": 3
   },
   "file_extension": ".py",
   "mimetype": "text/x-python",
   "name": "python",
   "nbconvert_exporter": "python",
   "pygments_lexer": "ipython3",
   "version": "3.9.7"
  }
 },
 "nbformat": 4,
 "nbformat_minor": 5
}
